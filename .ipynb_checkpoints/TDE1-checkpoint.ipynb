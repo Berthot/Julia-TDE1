{
 "cells": [
  {
   "cell_type": "code",
   "execution_count": 16,
   "metadata": {},
   "outputs": [
    {
     "ename": "MethodError",
     "evalue": "MethodError: no method matching png(::Plots.Plot{Plots.GRBackend})\nClosest candidates are:\n  png(::Plots.Plot, !Matched::AbstractString) at /home/bertho/.julia/packages/Plots/E3MWZ/src/output.jl:5\n  png(!Matched::AbstractString) at /home/bertho/.julia/packages/Plots/E3MWZ/src/output.jl:10",
     "output_type": "error",
     "traceback": [
      "MethodError: no method matching png(::Plots.Plot{Plots.GRBackend})\nClosest candidates are:\n  png(::Plots.Plot, !Matched::AbstractString) at /home/bertho/.julia/packages/Plots/E3MWZ/src/output.jl:5\n  png(!Matched::AbstractString) at /home/bertho/.julia/packages/Plots/E3MWZ/src/output.jl:10",
      "",
      "Stacktrace:",
      " [1] top-level scope at In[16]:5"
     ]
    }
   ],
   "source": [
    "using GraphRecipes, Plots\n",
    "g = [0 1 1;\n",
    "     0 0 1;\n",
    "     0 1 0]\n",
    "\n",
    "graphplot(g, names=1:3, curvature_scalar=0.1)"
   ]
  }
 ],
 "metadata": {
  "kernelspec": {
   "display_name": "Julia 1.0.4",
   "language": "julia",
   "name": "julia-1.0"
  },
  "language_info": {
   "file_extension": ".jl",
   "mimetype": "application/julia",
   "name": "julia",
   "version": "3.8.2-final"
  }
 },
 "nbformat": 4,
 "nbformat_minor": 4
}